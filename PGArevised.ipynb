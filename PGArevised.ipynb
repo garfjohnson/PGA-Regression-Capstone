{
 "cells": [
  {
   "cell_type": "markdown",
   "metadata": {
    "slideshow": {
     "slide_type": "slide"
    }
   },
   "source": [
    "# PGA Tour Analysis\n",
    "Which aspects of a pro golfer’s game leads to the most success?"
   ]
  },
  {
   "cell_type": "markdown",
   "metadata": {},
   "source": [
    "### Load and Trim the Data\n",
    "Brad Klassen has scraped all PGA tour statistics from 2010-2018 from their official website and published them in a csv on Kaggle. The dataset contains:\n",
    "    \n",
    "    -3053 golfers\n",
    "    -2081 variables\n",
    "    -528 statistics"
   ]
  },
  {
   "cell_type": "code",
   "execution_count": 1,
   "metadata": {},
   "outputs": [],
   "source": [
    "import pandas as pd\n",
    "import matplotlib.pyplot as plt\n",
    "import numpy as np\n",
    "import seaborn as sns\n",
    "from sklearn import linear_model\n",
    "from sklearn.linear_model import LinearRegression\n",
    "from sklearn.model_selection import train_test_split\n",
    "from sklearn.metrics import mean_absolute_error\n",
    "import statsmodels.api as sm\n",
    "from statsmodels.tools.eval_measures import mse, rmse\n",
    "from sqlalchemy import create_engine\n",
    "##show all the columns \n",
    "pd.set_option('display.max_rows', 50)\n",
    "pd.set_option('display.max_columns', 3000)\n",
    "pd.set_option('display.width', 3000)"
   ]
  },
  {
   "cell_type": "code",
   "execution_count": 2,
   "metadata": {},
   "outputs": [],
   "source": [
    "## raw string to avoid error\n",
    "df = pd.read_csv(r'C:\\Users\\garf\\PGAcapstone\\PGA_Data_Historical.csv', thousands=',')\n",
    "# ##unstack the multi-levels in new dataframe\n",
    "PGA_historic = df.set_index(['Player Name', 'Variable', 'Season'])['Value'].unstack('Variable').reset_index()"
   ]
  },
  {
   "cell_type": "code",
   "execution_count": 3,
   "metadata": {},
   "outputs": [],
   "source": [
    "##rename money\n",
    "PGA_historic.rename(columns={'Total Money (Official and Unofficial) - (MONEY)':'Money'}, inplace=True)"
   ]
  },
  {
   "cell_type": "code",
   "execution_count": 4,
   "metadata": {},
   "outputs": [],
   "source": [
    "## remove $ and commas from money column\n",
    "PGA_historic['Money']= PGA_historic['Money'].str.replace('$','')\n",
    "PGA_historic['Money']= PGA_historic['Money'].str.replace(',','')\n",
    "##fill money NaN with 0 and convert to int so we can order it\n",
    "PGA_historic['Money'] = pd.to_numeric(PGA_historic['Money'].fillna(0))"
   ]
  },
  {
   "cell_type": "code",
   "execution_count": 5,
   "metadata": {},
   "outputs": [],
   "source": [
    "## sort by avg score, the target variable\n",
    "PGA_historic.sort_values(by='Scoring Average (Actual) - (AVG)', inplace=True)"
   ]
  },
  {
   "cell_type": "code",
   "execution_count": 6,
   "metadata": {},
   "outputs": [],
   "source": [
    "## reset index\n",
    "PGA_historic.reset_index(drop=True, inplace=True)"
   ]
  },
  {
   "cell_type": "code",
   "execution_count": 7,
   "metadata": {},
   "outputs": [],
   "source": [
    "## group by player name and total money earned\n",
    "grouped_df = PGA_historic.groupby(['Player Name'])['Money'].sum().reset_index()"
   ]
  },
  {
   "cell_type": "code",
   "execution_count": 8,
   "metadata": {},
   "outputs": [],
   "source": [
    "## sort by money and only keep the top 200 golfers\n",
    "grouped_sorted = grouped_df.sort_values('Money', ascending=False).head(200).reset_index(drop=True)"
   ]
  },
  {
   "cell_type": "code",
   "execution_count": 9,
   "metadata": {},
   "outputs": [],
   "source": [
    "## get a list of the top 200 golfers\n",
    "top200list = grouped_sorted['Player Name'].tolist()"
   ]
  },
  {
   "cell_type": "code",
   "execution_count": 10,
   "metadata": {},
   "outputs": [],
   "source": [
    "## drop all golfers outside of top 200\n",
    "top200df = PGA_historic[PGA_historic['Player Name'].isin(top200list)]"
   ]
  },
  {
   "cell_type": "markdown",
   "metadata": {
    "heading_collapsed": true
   },
   "source": [
    "### Data Cleaning\n",
    "We strip down characters and convert all statistical columns to numeric ones. "
   ]
  },
  {
   "cell_type": "code",
   "execution_count": 11,
   "metadata": {
    "hidden": true
   },
   "outputs": [
    {
     "name": "stderr",
     "output_type": "stream",
     "text": [
      "c:\\python34\\lib\\site-packages\\pandas\\core\\frame.py:3940: SettingWithCopyWarning: \n",
      "A value is trying to be set on a copy of a slice from a DataFrame\n",
      "\n",
      "See the caveats in the documentation: http://pandas.pydata.org/pandas-docs/stable/indexing.html#indexing-view-versus-copy\n",
      "  errors=errors)\n"
     ]
    }
   ],
   "source": [
    "# drop text based descriptive columns\n",
    "drop_columns = ['Longest Drives - (TOURNAMENT)','Longest Hole Outs (in yards) - (TOURNAMENT)',\n",
    "                'Longest Putts - (YEAR/TOURN#)','Lowest Round - (TOURN/COURSE)',\n",
    "                'Going for the Green - Hit Green Pct. - (RTP-NOT GOING FOR THE GRN)',\n",
    "                'Official World Golf Ranking - (COUNTRY)','Putting Average - (GIR RANK)']\n",
    "top200df.drop(drop_columns,axis=1,inplace=True)"
   ]
  },
  {
   "cell_type": "markdown",
   "metadata": {
    "hidden": true
   },
   "source": [
    "Our next task is to get the columns ready to be converted to numeric types. A few issues that stand out initially are columns that are measured in:\n",
    "    1. Feet' Inches\"\n",
    "    2. + or - relative to par\n",
    "    3. Numbers with commas\n",
    "    \n",
    "The commas can easily be replaced before converting, but we'll need to write a function to convert our feet' inches\" to inches and one to handle the positive or negative numbers that are in string format."
   ]
  },
  {
   "cell_type": "code",
   "execution_count": 12,
   "metadata": {
    "hidden": true
   },
   "outputs": [],
   "source": [
    "def feet_to_inches(num):\n",
    "    try:\n",
    "    ##check to see if its in our ft'in\" format\n",
    "        if num.endswith('\\\"'):\n",
    "            # strip last inches character\n",
    "            num = num.replace('\\\"', '')\n",
    "            #seperate at the apostrophe\n",
    "            feet, sep, inches = num.partition('\\'')\n",
    "            # add feet to inches\n",
    "            num = float(feet) + float(inches)\n",
    "            return num\n",
    "        else:\n",
    "            return num\n",
    "    except:\n",
    "        return num"
   ]
  },
  {
   "cell_type": "code",
   "execution_count": 13,
   "metadata": {
    "hidden": true
   },
   "outputs": [],
   "source": [
    "def golf_score_to_float(num):\n",
    "    try:\n",
    "        if num.startswith('+'):\n",
    "            return float(num.replace('+',''))\n",
    "        if num.startswith('-'):\n",
    "            return float(num.replace('-','')) * -1\n",
    "        if num == 'E':\n",
    "            return 0\n",
    "        else:\n",
    "            return num\n",
    "    except:\n",
    "        return num"
   ]
  },
  {
   "cell_type": "code",
   "execution_count": 14,
   "metadata": {
    "hidden": true
   },
   "outputs": [],
   "source": [
    "def strip_comma(num):\n",
    "    try:\n",
    "        return num.replace(',','')\n",
    "    except:\n",
    "        return num"
   ]
  },
  {
   "cell_type": "code",
   "execution_count": 15,
   "metadata": {
    "hidden": true
   },
   "outputs": [],
   "source": [
    "def strip_apostrophe(num):\n",
    "    try:\n",
    "        return num.replace('\\'','')\n",
    "    except:\n",
    "        return num"
   ]
  },
  {
   "cell_type": "code",
   "execution_count": 16,
   "metadata": {
    "hidden": true
   },
   "outputs": [],
   "source": [
    "def strip_dollar_sign(num):\n",
    "    try:\n",
    "        return num.replace('$','')\n",
    "    except:\n",
    "        return num"
   ]
  },
  {
   "cell_type": "code",
   "execution_count": 17,
   "metadata": {
    "hidden": true
   },
   "outputs": [],
   "source": [
    "# change golf score to int\n",
    "top200df = top200df.applymap(golf_score_to_float)"
   ]
  },
  {
   "cell_type": "code",
   "execution_count": 18,
   "metadata": {
    "hidden": true
   },
   "outputs": [],
   "source": [
    "# change ft' in\" format to inches\n",
    "top200df = top200df.applymap(feet_to_inches)"
   ]
  },
  {
   "cell_type": "code",
   "execution_count": 19,
   "metadata": {
    "hidden": true
   },
   "outputs": [],
   "source": [
    "# strip commas\n",
    "top200df = top200df.applymap(strip_comma)"
   ]
  },
  {
   "cell_type": "code",
   "execution_count": 20,
   "metadata": {
    "hidden": true
   },
   "outputs": [],
   "source": [
    "# strip apostrophe\n",
    "top200df = top200df.applymap(strip_apostrophe)"
   ]
  },
  {
   "cell_type": "code",
   "execution_count": 21,
   "metadata": {
    "hidden": true
   },
   "outputs": [],
   "source": [
    "# strip dollar sign\n",
    "top200df = top200df.applymap(strip_dollar_sign)"
   ]
  },
  {
   "cell_type": "code",
   "execution_count": 22,
   "metadata": {
    "hidden": true
   },
   "outputs": [],
   "source": [
    "# to numeric\n",
    "top200df = top200df.apply(lambda x: pd.to_numeric(x, errors='ignore'))"
   ]
  },
  {
   "cell_type": "markdown",
   "metadata": {},
   "source": [
    "### Missing Values\n",
    "Filling the nulls with the mean makes the most sense and has the best results because the top 200 golfers in the world won't have any true outliers where they are so much better or worse in any one statistic."
   ]
  },
  {
   "cell_type": "code",
   "execution_count": 23,
   "metadata": {},
   "outputs": [],
   "source": [
    "## this will drop all columns with more than 40% null\n",
    "top200df = top200df.loc[:, top200df.isnull().mean() < .4]"
   ]
  },
  {
   "cell_type": "code",
   "execution_count": 24,
   "metadata": {},
   "outputs": [],
   "source": [
    "# fill with mean\n",
    "top200df.fillna(top200df.mean(), inplace=True)"
   ]
  },
  {
   "cell_type": "markdown",
   "metadata": {},
   "source": [
    "### Exploring the Target Variable\n",
    "In my first iteration, money earned on tour was the target variable. However, it became clear that a season of golf stats alone are not able to explain much of the variance of that variable, perhaps because certain golf tournaments, such as the Masters, pay so much more money than the minor ones. \n",
    "\n",
    "The better target variable for explaining which aspects of golf help a golfer succeed is average score. The best example is Jordan Spieth's 2015 season, which is the highest grossing season for a golfer in this dataset, but has the 6th best scoring average."
   ]
  },
  {
   "cell_type": "code",
   "execution_count": 25,
   "metadata": {},
   "outputs": [],
   "source": [
    "## rename scoring\n",
    "top200df.rename(columns={'Scoring Average (Actual) - (AVG)':'Avg Score'}, inplace=True)"
   ]
  },
  {
   "cell_type": "code",
   "execution_count": 26,
   "metadata": {},
   "outputs": [],
   "source": [
    "# create new df for model\n",
    "pga_df = top200df[['Player Name','Season','Avg Score']].sort_values(by='Avg Score')"
   ]
  },
  {
   "cell_type": "code",
   "execution_count": 27,
   "metadata": {},
   "outputs": [
    {
     "data": {
      "text/plain": [
       "count    1711.000000\n",
       "mean       70.748494\n",
       "std         0.508780\n",
       "min        68.540000\n",
       "25%        70.520000\n",
       "50%        70.748494\n",
       "75%        70.930000\n",
       "max        74.220000\n",
       "Name: Avg Score, dtype: float64"
      ]
     },
     "execution_count": 27,
     "metadata": {},
     "output_type": "execute_result"
    }
   ],
   "source": [
    "pga_df['Avg Score'].describe()"
   ]
  },
  {
   "cell_type": "code",
   "execution_count": 28,
   "metadata": {},
   "outputs": [
    {
     "data": {
      "text/plain": [
       "Text(0.5, 1.0, 'Avg Score Distribution')"
      ]
     },
     "execution_count": 28,
     "metadata": {},
     "output_type": "execute_result"
    },
    {
     "data": {
      "image/png": "[encoded data removed]",
      "text/plain": [
       "<Figure size 432x288 with 1 Axes>"
      ]
     },
     "metadata": {
      "needs_background": "light"
     },
     "output_type": "display_data"
    }
   ],
   "source": [
    "# plot score\n",
    "sns.distplot(pga_df['Avg Score'], bins=35)\n",
    "plt.title('Avg Score Distribution')"
   ]
  },
  {
   "cell_type": "markdown",
   "metadata": {},
   "source": [
    "Our target variable is normally distributed, with a slight skew to the right.\n",
    "\n",
    "These are the 10 worst seasons:"
   ]
  },
  {
   "cell_type": "markdown",
   "metadata": {},
   "source": [
    "These are the best 10 seasons:"
   ]
  },
  {
   "cell_type": "code",
   "execution_count": 29,
   "metadata": {},
   "outputs": [
    {
     "data": {
      "text/html": [
       "<div>\n",
       "<style scoped>\n",
       "    .dataframe tbody tr th:only-of-type {\n",
       "        vertical-align: middle;\n",
       "    }\n",
       "\n",
       "    .dataframe tbody tr th {\n",
       "        vertical-align: top;\n",
       "    }\n",
       "\n",
       "    .dataframe thead th {\n",
       "        text-align: right;\n",
       "    }\n",
       "</style>\n",
       "<table border=\"1\" class=\"dataframe\">\n",
       "  <thead>\n",
       "    <tr style=\"text-align: right;\">\n",
       "      <th>Variable</th>\n",
       "      <th>Player Name</th>\n",
       "      <th>Season</th>\n",
       "      <th>Avg Score</th>\n",
       "      <th>Money</th>\n",
       "    </tr>\n",
       "  </thead>\n",
       "  <tbody>\n",
       "    <tr>\n",
       "      <th>0</th>\n",
       "      <td>Dustin Johnson</td>\n",
       "      <td>2018</td>\n",
       "      <td>68.54</td>\n",
       "      <td>8564352</td>\n",
       "    </tr>\n",
       "    <tr>\n",
       "      <th>1</th>\n",
       "      <td>Jason Day</td>\n",
       "      <td>2015</td>\n",
       "      <td>68.89</td>\n",
       "      <td>9938330</td>\n",
       "    </tr>\n",
       "    <tr>\n",
       "      <th>2</th>\n",
       "      <td>Jordan Spieth</td>\n",
       "      <td>2017</td>\n",
       "      <td>68.94</td>\n",
       "      <td>9573033</td>\n",
       "    </tr>\n",
       "    <tr>\n",
       "      <th>3</th>\n",
       "      <td>Justin Rose</td>\n",
       "      <td>2018</td>\n",
       "      <td>69.03</td>\n",
       "      <td>8275678</td>\n",
       "    </tr>\n",
       "    <tr>\n",
       "      <th>4</th>\n",
       "      <td>Justin Thomas</td>\n",
       "      <td>2018</td>\n",
       "      <td>69.06</td>\n",
       "      <td>8809821</td>\n",
       "    </tr>\n",
       "    <tr>\n",
       "      <th>5</th>\n",
       "      <td>Jordan Spieth</td>\n",
       "      <td>2015</td>\n",
       "      <td>69.09</td>\n",
       "      <td>13030465</td>\n",
       "    </tr>\n",
       "    <tr>\n",
       "      <th>6</th>\n",
       "      <td>Webb Simpson</td>\n",
       "      <td>2011</td>\n",
       "      <td>69.16</td>\n",
       "      <td>6579853</td>\n",
       "    </tr>\n",
       "    <tr>\n",
       "      <th>7</th>\n",
       "      <td>Steve Stricker</td>\n",
       "      <td>2013</td>\n",
       "      <td>69.19</td>\n",
       "      <td>4590532</td>\n",
       "    </tr>\n",
       "    <tr>\n",
       "      <th>8</th>\n",
       "      <td>Webb Simpson</td>\n",
       "      <td>2018</td>\n",
       "      <td>69.25</td>\n",
       "      <td>5376417</td>\n",
       "    </tr>\n",
       "    <tr>\n",
       "      <th>9</th>\n",
       "      <td>Rory McIlroy</td>\n",
       "      <td>2014</td>\n",
       "      <td>69.27</td>\n",
       "      <td>8395096</td>\n",
       "    </tr>\n",
       "  </tbody>\n",
       "</table>\n",
       "</div>"
      ],
      "text/plain": [
       "Variable     Player Name  Season  Avg Score     Money\n",
       "0         Dustin Johnson    2018      68.54   8564352\n",
       "1              Jason Day    2015      68.89   9938330\n",
       "2          Jordan Spieth    2017      68.94   9573033\n",
       "3            Justin Rose    2018      69.03   8275678\n",
       "4          Justin Thomas    2018      69.06   8809821\n",
       "5          Jordan Spieth    2015      69.09  13030465\n",
       "6           Webb Simpson    2011      69.16   6579853\n",
       "7         Steve Stricker    2013      69.19   4590532\n",
       "8           Webb Simpson    2018      69.25   5376417\n",
       "9           Rory McIlroy    2014      69.27   8395096"
      ]
     },
     "execution_count": 29,
     "metadata": {},
     "output_type": "execute_result"
    }
   ],
   "source": [
    "top200df[['Player Name','Season','Avg Score','Money']].head(10)"
   ]
  },
  {
   "cell_type": "code",
   "execution_count": 30,
   "metadata": {},
   "outputs": [
    {
     "data": {
      "text/html": [
       "<div>\n",
       "<style scoped>\n",
       "    .dataframe tbody tr th:only-of-type {\n",
       "        vertical-align: middle;\n",
       "    }\n",
       "\n",
       "    .dataframe tbody tr th {\n",
       "        vertical-align: top;\n",
       "    }\n",
       "\n",
       "    .dataframe thead th {\n",
       "        text-align: right;\n",
       "    }\n",
       "</style>\n",
       "<table border=\"1\" class=\"dataframe\">\n",
       "  <thead>\n",
       "    <tr style=\"text-align: right;\">\n",
       "      <th>Variable</th>\n",
       "      <th>Player Name</th>\n",
       "      <th>Season</th>\n",
       "      <th>Avg Score</th>\n",
       "    </tr>\n",
       "  </thead>\n",
       "  <tbody>\n",
       "    <tr>\n",
       "      <th>1658</th>\n",
       "      <td>Ernie Els</td>\n",
       "      <td>2017</td>\n",
       "      <td>72.40</td>\n",
       "    </tr>\n",
       "    <tr>\n",
       "      <th>1660</th>\n",
       "      <td>Brendon Todd</td>\n",
       "      <td>2016</td>\n",
       "      <td>72.44</td>\n",
       "    </tr>\n",
       "    <tr>\n",
       "      <th>1661</th>\n",
       "      <td>Greg Chalmers</td>\n",
       "      <td>2018</td>\n",
       "      <td>72.44</td>\n",
       "    </tr>\n",
       "    <tr>\n",
       "      <th>1662</th>\n",
       "      <td>Daniel Summerhays</td>\n",
       "      <td>2018</td>\n",
       "      <td>72.47</td>\n",
       "    </tr>\n",
       "    <tr>\n",
       "      <th>1664</th>\n",
       "      <td>Si Woo Kim</td>\n",
       "      <td>2017</td>\n",
       "      <td>72.51</td>\n",
       "    </tr>\n",
       "    <tr>\n",
       "      <th>1665</th>\n",
       "      <td>Sung Kang</td>\n",
       "      <td>2012</td>\n",
       "      <td>72.66</td>\n",
       "    </tr>\n",
       "    <tr>\n",
       "      <th>1668</th>\n",
       "      <td>Matt Every</td>\n",
       "      <td>2015</td>\n",
       "      <td>72.71</td>\n",
       "    </tr>\n",
       "    <tr>\n",
       "      <th>1673</th>\n",
       "      <td>Robert Allenby</td>\n",
       "      <td>2016</td>\n",
       "      <td>72.82</td>\n",
       "    </tr>\n",
       "    <tr>\n",
       "      <th>1676</th>\n",
       "      <td>Steven Bowditch</td>\n",
       "      <td>2016</td>\n",
       "      <td>74.20</td>\n",
       "    </tr>\n",
       "    <tr>\n",
       "      <th>1677</th>\n",
       "      <td>Steven Bowditch</td>\n",
       "      <td>2017</td>\n",
       "      <td>74.22</td>\n",
       "    </tr>\n",
       "  </tbody>\n",
       "</table>\n",
       "</div>"
      ],
      "text/plain": [
       "Variable        Player Name  Season  Avg Score\n",
       "1658              Ernie Els    2017      72.40\n",
       "1660           Brendon Todd    2016      72.44\n",
       "1661          Greg Chalmers    2018      72.44\n",
       "1662      Daniel Summerhays    2018      72.47\n",
       "1664             Si Woo Kim    2017      72.51\n",
       "1665              Sung Kang    2012      72.66\n",
       "1668             Matt Every    2015      72.71\n",
       "1673         Robert Allenby    2016      72.82\n",
       "1676        Steven Bowditch    2016      74.20\n",
       "1677        Steven Bowditch    2017      74.22"
      ]
     },
     "execution_count": 30,
     "metadata": {},
     "output_type": "execute_result"
    }
   ],
   "source": [
    "pga_df.tail(10)"
   ]
  },
  {
   "cell_type": "markdown",
   "metadata": {},
   "source": [
    "### Feature Selection \n",
    "This data set contains many columns that could potentially be selected, however the majority of them overlap by collecting data on some nuance of a golf statistic. We'll distill the categories that they represent down to the best representations of the core parts of a golf game. From my lifelong obsession with golf, these are essentially putting, driving accuracy, driving distance, fairway to green accuracy, and scrambling. In this section we'll determine which columns of the dataset will be used to represent these categories.\n",
    "\n",
    "After many iterations, and comparting several feature sets, the best performers to explain the slight difference in skill between the top 200 golfers are as gollows:\n",
    "\n",
    "    -Putts made over 10ft\n",
    "    -Driving Accuracy\n",
    "    -Avg Driving Distance\n",
    "    -GIR Pct From Fairway\n",
    "    -Scrambling Pct"
   ]
  },
  {
   "cell_type": "code",
   "execution_count": 31,
   "metadata": {},
   "outputs": [],
   "source": [
    "features = ['Putts Made Per Event Over 10\\' - (PUTTS MADE)','Driving Accuracy Percentage - (%)','Driving Distance - (AVG.)',\n",
    "            'GIR Percentage from Fairway - (%)','Scrambling - (%)']\n",
    "\n",
    "\n",
    "# add features\n",
    "pga_df[features] = top200df[features]"
   ]
  },
  {
   "cell_type": "code",
   "execution_count": 32,
   "metadata": {},
   "outputs": [],
   "source": [
    "# rename features\n",
    "pga_df.rename(columns={'Putts Made Per Event Over 10\\' - (PUTTS MADE)' : 'Putts over 10ft', \n",
    "                       'Driving Accuracy Percentage - (%)' : 'Driving Accuracy',\n",
    "                       'Driving Distance - (AVG.)' : 'Avg Driving Distance',\n",
    "                       'GIR Percentage from Fairway - (%)' : 'GIR Pct From Fairway',\n",
    "                       'Scrambling - (%)' : 'Scrambling Pct'}, inplace=True)"
   ]
  },
  {
   "cell_type": "code",
   "execution_count": 33,
   "metadata": {},
   "outputs": [
    {
     "data": {
      "text/html": [
       "<div>\n",
       "<style scoped>\n",
       "    .dataframe tbody tr th:only-of-type {\n",
       "        vertical-align: middle;\n",
       "    }\n",
       "\n",
       "    .dataframe tbody tr th {\n",
       "        vertical-align: top;\n",
       "    }\n",
       "\n",
       "    .dataframe thead th {\n",
       "        text-align: right;\n",
       "    }\n",
       "</style>\n",
       "<table border=\"1\" class=\"dataframe\">\n",
       "  <thead>\n",
       "    <tr style=\"text-align: right;\">\n",
       "      <th>Variable</th>\n",
       "      <th>Avg Score</th>\n",
       "      <th>Putts over 10ft</th>\n",
       "      <th>Driving Accuracy</th>\n",
       "      <th>Avg Driving Distance</th>\n",
       "      <th>GIR Pct From Fairway</th>\n",
       "      <th>Scrambling Pct</th>\n",
       "    </tr>\n",
       "    <tr>\n",
       "      <th>Variable</th>\n",
       "      <th></th>\n",
       "      <th></th>\n",
       "      <th></th>\n",
       "      <th></th>\n",
       "      <th></th>\n",
       "      <th></th>\n",
       "    </tr>\n",
       "  </thead>\n",
       "  <tbody>\n",
       "    <tr>\n",
       "      <th>Avg Score</th>\n",
       "      <td>1.000000</td>\n",
       "      <td>-0.600168</td>\n",
       "      <td>-0.209774</td>\n",
       "      <td>-0.234445</td>\n",
       "      <td>-0.479335</td>\n",
       "      <td>-0.564299</td>\n",
       "    </tr>\n",
       "    <tr>\n",
       "      <th>Putts over 10ft</th>\n",
       "      <td>-0.600168</td>\n",
       "      <td>1.000000</td>\n",
       "      <td>0.119070</td>\n",
       "      <td>0.106857</td>\n",
       "      <td>0.233065</td>\n",
       "      <td>0.311638</td>\n",
       "    </tr>\n",
       "    <tr>\n",
       "      <th>Driving Accuracy</th>\n",
       "      <td>-0.209774</td>\n",
       "      <td>0.119070</td>\n",
       "      <td>1.000000</td>\n",
       "      <td>-0.559453</td>\n",
       "      <td>-0.123173</td>\n",
       "      <td>0.229299</td>\n",
       "    </tr>\n",
       "    <tr>\n",
       "      <th>Avg Driving Distance</th>\n",
       "      <td>-0.234445</td>\n",
       "      <td>0.106857</td>\n",
       "      <td>-0.559453</td>\n",
       "      <td>1.000000</td>\n",
       "      <td>0.516216</td>\n",
       "      <td>-0.262082</td>\n",
       "    </tr>\n",
       "    <tr>\n",
       "      <th>GIR Pct From Fairway</th>\n",
       "      <td>-0.479335</td>\n",
       "      <td>0.233065</td>\n",
       "      <td>-0.123173</td>\n",
       "      <td>0.516216</td>\n",
       "      <td>1.000000</td>\n",
       "      <td>-0.088383</td>\n",
       "    </tr>\n",
       "    <tr>\n",
       "      <th>Scrambling Pct</th>\n",
       "      <td>-0.564299</td>\n",
       "      <td>0.311638</td>\n",
       "      <td>0.229299</td>\n",
       "      <td>-0.262082</td>\n",
       "      <td>-0.088383</td>\n",
       "      <td>1.000000</td>\n",
       "    </tr>\n",
       "  </tbody>\n",
       "</table>\n",
       "</div>"
      ],
      "text/plain": [
       "Variable              Avg Score  Putts over 10ft  Driving Accuracy  Avg Driving Distance  GIR Pct From Fairway  Scrambling Pct\n",
       "Variable                                                                                                                      \n",
       "Avg Score              1.000000        -0.600168         -0.209774             -0.234445             -0.479335       -0.564299\n",
       "Putts over 10ft       -0.600168         1.000000          0.119070              0.106857              0.233065        0.311638\n",
       "Driving Accuracy      -0.209774         0.119070          1.000000             -0.559453             -0.123173        0.229299\n",
       "Avg Driving Distance  -0.234445         0.106857         -0.559453              1.000000              0.516216       -0.262082\n",
       "GIR Pct From Fairway  -0.479335         0.233065         -0.123173              0.516216              1.000000       -0.088383\n",
       "Scrambling Pct        -0.564299         0.311638          0.229299             -0.262082             -0.088383        1.000000"
      ]
     },
     "execution_count": 33,
     "metadata": {},
     "output_type": "execute_result"
    },
    {
     "data": {
      "image/png": "[encoded data removed]",
      "text/plain": [
       "<Figure size 432x288 with 2 Axes>"
      ]
     },
     "metadata": {
      "needs_background": "light"
     },
     "output_type": "display_data"
    }
   ],
   "source": [
    "## plot correlations\n",
    "sns.heatmap(pga_df.drop(columns='Season').corr())\n",
    "pga_df.drop(columns='Season').corr()\n",
    "\n",
    "## could take the minus of avg score to be more understandable"
   ]
  },
  {
   "cell_type": "markdown",
   "metadata": {},
   "source": [
    "The putts made over 10 ft was the big surprise performer. It vastly outperforms the base level avg putting statistic bc pros are all so proficient at short putts. This feature was able to explain much more variance among them.\n",
    "\n",
    "Driving accuracy and distance are not as strong factors as expected, again it seems to be due to all top golfers being of equal skill in those regards.\n",
    "\n",
    "It seems that being able to make long putts, hit the green from the fairway, and recovering when you don't, are the most signifcant factors leading to success."
   ]
  },
  {
   "cell_type": "code",
   "execution_count": 34,
   "metadata": {},
   "outputs": [
    {
     "data": {
      "text/plain": [
       "count    1711.000000\n",
       "mean        5.122095\n",
       "std         0.769341\n",
       "min         2.600000\n",
       "25%         4.800000\n",
       "50%         5.122095\n",
       "75%         5.400000\n",
       "max         8.100000\n",
       "Name: Putts over 10ft, dtype: float64"
      ]
     },
     "execution_count": 34,
     "metadata": {},
     "output_type": "execute_result"
    },
    {
     "data": {
      "image/png": "[encoded data removed]",
      "text/plain": [
       "<Figure size 432x288 with 1 Axes>"
      ]
     },
     "metadata": {
      "needs_background": "light"
     },
     "output_type": "display_data"
    }
   ],
   "source": [
    "# plot putting to score\n",
    "sns.regplot(x='Putts over 10ft',y='Avg Score',data=pga_df)\n",
    "plt.title('Putting')\n",
    "pga_df['Putts over 10ft'].describe()"
   ]
  },
  {
   "cell_type": "code",
   "execution_count": 35,
   "metadata": {},
   "outputs": [
    {
     "data": {
      "text/plain": [
       "count    1711.000000\n",
       "mean       61.481948\n",
       "std         4.186775\n",
       "min        43.020000\n",
       "25%        59.520000\n",
       "50%        61.481948\n",
       "75%        63.425000\n",
       "max        76.880000\n",
       "Name: Driving Accuracy, dtype: float64"
      ]
     },
     "execution_count": 35,
     "metadata": {},
     "output_type": "execute_result"
    },
    {
     "data": {
      "image/png": "[encoded data removed]",
      "text/plain": [
       "<Figure size 432x288 with 1 Axes>"
      ]
     },
     "metadata": {
      "needs_background": "light"
     },
     "output_type": "display_data"
    }
   ],
   "source": [
    "# plot Driving Accuracy to score\n",
    "sns.regplot(x='Driving Accuracy',y='Avg Score',data=pga_df)\n",
    "plt.title('Driving Accuracy')\n",
    "pga_df['Driving Accuracy'].describe()"
   ]
  },
  {
   "cell_type": "code",
   "execution_count": 36,
   "metadata": {},
   "outputs": [
    {
     "data": {
      "text/plain": [
       "count    1711.000000\n",
       "mean      291.593944\n",
       "std         7.555467\n",
       "min       266.400000\n",
       "25%       288.100000\n",
       "50%       291.593944\n",
       "75%       294.700000\n",
       "max       319.700000\n",
       "Name: Avg Driving Distance, dtype: float64"
      ]
     },
     "execution_count": 36,
     "metadata": {},
     "output_type": "execute_result"
    },
    {
     "data": {
      "image/png": "[encoded data removed]",
      "text/plain": [
       "<Figure size 432x288 with 1 Axes>"
      ]
     },
     "metadata": {
      "needs_background": "light"
     },
     "output_type": "display_data"
    }
   ],
   "source": [
    "# plot Driving distance to score\n",
    "sns.regplot(x='Avg Driving Distance',y='Avg Score',data=pga_df)\n",
    "plt.title('Driving Distance')\n",
    "pga_df['Avg Driving Distance'].describe()"
   ]
  },
  {
   "cell_type": "code",
   "execution_count": 37,
   "metadata": {},
   "outputs": [
    {
     "data": {
      "text/plain": [
       "count    1711.000000\n",
       "mean       76.593887\n",
       "std         2.365883\n",
       "min        65.150000\n",
       "25%        75.670000\n",
       "50%        76.593887\n",
       "75%        77.825000\n",
       "max        84.860000\n",
       "Name: GIR Pct From Fairway, dtype: float64"
      ]
     },
     "execution_count": 37,
     "metadata": {},
     "output_type": "execute_result"
    },
    {
     "data": {
      "image/png": "[encoded data removed]",
      "text/plain": [
       "<Figure size 432x288 with 1 Axes>"
      ]
     },
     "metadata": {
      "needs_background": "light"
     },
     "output_type": "display_data"
    }
   ],
   "source": [
    "# plot GIR Pct From Fairway to score\n",
    "sns.regplot(x='GIR Pct From Fairway',y='Avg Score',data=pga_df)\n",
    "plt.title('GIR')\n",
    "pga_df['GIR Pct From Fairway'].describe()"
   ]
  },
  {
   "cell_type": "code",
   "execution_count": 38,
   "metadata": {},
   "outputs": [
    {
     "data": {
      "text/plain": [
       "count    1711.000000\n",
       "mean       58.450286\n",
       "std         2.767487\n",
       "min        48.010000\n",
       "25%        57.230000\n",
       "50%        58.450286\n",
       "75%        59.760000\n",
       "max        69.330000\n",
       "Name: Scrambling Pct, dtype: float64"
      ]
     },
     "execution_count": 38,
     "metadata": {},
     "output_type": "execute_result"
    },
    {
     "data": {
      "image/png": "[encoded data removed]",
      "text/plain": [
       "<Figure size 432x288 with 1 Axes>"
      ]
     },
     "metadata": {
      "needs_background": "light"
     },
     "output_type": "display_data"
    }
   ],
   "source": [
    "# plot Scrambling Pct to score\n",
    "sns.regplot(x='Scrambling Pct',y='Avg Score',data=pga_df)\n",
    "plt.title('Scrambling')\n",
    "pga_df['Scrambling Pct'].describe()"
   ]
  },
  {
   "cell_type": "markdown",
   "metadata": {},
   "source": [
    "### Build Initial Regression Model\n",
    "First, we'll build a model to interpret which statistics explain the variance of avg score. Later, we'll try to predict avg scores for a golfer for a season."
   ]
  },
  {
   "cell_type": "code",
   "execution_count": 39,
   "metadata": {},
   "outputs": [],
   "source": [
    "# create variables\n",
    "X, Y = pga_df.drop(['Avg Score','Player Name','Season'], axis=1), pga_df['Avg Score']"
   ]
  },
  {
   "cell_type": "code",
   "execution_count": 40,
   "metadata": {},
   "outputs": [
    {
     "name": "stderr",
     "output_type": "stream",
     "text": [
      "c:\\python34\\lib\\site-packages\\numpy\\core\\fromnumeric.py:2389: FutureWarning: Method .ptp is deprecated and will be removed in a future version. Use numpy.ptp instead.\n",
      "  return ptp(axis=axis, out=out, **kwargs)\n"
     ]
    }
   ],
   "source": [
    "# add constant since we're using statsmodel and not sklearn\n",
    "X = sm.add_constant(X)"
   ]
  },
  {
   "cell_type": "code",
   "execution_count": 41,
   "metadata": {},
   "outputs": [],
   "source": [
    "#fit OLS regression model to explain with coefficients\n",
    "results = sm.OLS(Y,X).fit()"
   ]
  },
  {
   "cell_type": "code",
   "execution_count": 42,
   "metadata": {},
   "outputs": [
    {
     "name": "stdout",
     "output_type": "stream",
     "text": [
      "                            OLS Regression Results                            \n",
      "==============================================================================\n",
      "Dep. Variable:              Avg Score   R-squared:                       0.762\n",
      "Model:                            OLS   Adj. R-squared:                  0.761\n",
      "Method:                 Least Squares   F-statistic:                     1090.\n",
      "Date:                Mon, 18 Nov 2019   Prob (F-statistic):               0.00\n",
      "Time:                        12:35:03   Log-Likelihood:                -43.867\n",
      "No. Observations:                1711   AIC:                             99.73\n",
      "Df Residuals:                    1705   BIC:                             132.4\n",
      "Df Model:                           5                                         \n",
      "Covariance Type:            nonrobust                                         \n",
      "========================================================================================\n",
      "                           coef    std err          t      P>|t|      [0.025      0.975]\n",
      "----------------------------------------------------------------------------------------\n",
      "const                   91.2461      0.406    225.002      0.000      90.451      92.041\n",
      "Putts over 10ft         -0.1941      0.009    -22.339      0.000      -0.211      -0.177\n",
      "Driving Accuracy        -0.0340      0.002    -18.746      0.000      -0.038      -0.030\n",
      "Avg Driving Distance    -0.0223      0.001    -19.025      0.000      -0.025      -0.020\n",
      "GIR Pct From Fairway    -0.0690      0.003    -22.271      0.000      -0.075      -0.063\n",
      "Scrambling Pct          -0.0963      0.002    -39.973      0.000      -0.101      -0.092\n",
      "==============================================================================\n",
      "Omnibus:                      118.602   Durbin-Watson:                   1.464\n",
      "Prob(Omnibus):                  0.000   Jarque-Bera (JB):              364.951\n",
      "Skew:                           0.321   Prob(JB):                     5.65e-80\n",
      "Kurtosis:                       5.169   Cond. No.                     2.11e+04\n",
      "==============================================================================\n",
      "\n",
      "Warnings:\n",
      "[1] Standard Errors assume that the covariance matrix of the errors is correctly specified.\n",
      "[2] The condition number is large, 2.11e+04. This might indicate that there are\n",
      "strong multicollinearity or other numerical problems.\n"
     ]
    }
   ],
   "source": [
    "print(results.summary())"
   ]
  },
  {
   "cell_type": "markdown",
   "metadata": {},
   "source": [
    "In order to increase avg score by 1 stroke do one of the following:\n",
    " - Increase driving accuracy by about 30%\n",
    "   - Very Difficult, 7.2 standard deviations\n",
    " - Increase avg driving distance by about 50 yds\n",
    "   - Very Difficult, 6.6 standard deviations\n",
    " - Increase GIR pct from fairway by about 17%\n",
    "   - Very Difficult, 7.3 standard deviations\n",
    " - Increase scrambling pct by about 10%\n",
    "   - Much more reasonable, 3.6 standard deviations\n",
    " - Increase putts made over 10’ by 1 putt per round\n",
    "   - Seems obvious, but this is by far the best opportunity to improve versus the rest of the field, less than 1 standard deviation\n"
   ]
  },
  {
   "cell_type": "markdown",
   "metadata": {},
   "source": [
    "#### Predictions"
   ]
  },
  {
   "cell_type": "code",
   "execution_count": 43,
   "metadata": {},
   "outputs": [],
   "source": [
    "# reset variables\n",
    "X, Y = pga_df.drop(['Avg Score','Player Name'], axis=1), pga_df[['Avg Score','Season']]"
   ]
  },
  {
   "cell_type": "code",
   "execution_count": 44,
   "metadata": {},
   "outputs": [
    {
     "name": "stdout",
     "output_type": "stream",
     "text": [
      "The number of observations in training set is (1523, 5)\n",
      "The number of observations in test set is (188, 5)\n"
     ]
    }
   ],
   "source": [
    "## split into train and test sets\n",
    "X_train = X.loc[X['Season'] != 2018]\n",
    "X_test = X.loc[X['Season'] == 2018]\n",
    "\n",
    "# drop the season identifier feature\n",
    "X_train = X_train.drop('Season', axis=1)\n",
    "X_test = X_test.drop('Season', axis=1)\n",
    "\n",
    "# create Y test and train variables\n",
    "Y_train = Y.loc[Y['Season'] != 2018]\n",
    "Y_test = Y.loc[Y['Season'] == 2018]\n",
    "\n",
    "# drop the season identifier feature\n",
    "Y_train = Y_train.drop('Season', axis=1)\n",
    "Y_test = Y_test.drop('Season', axis=1)\n",
    "\n",
    "# #Scaling decreased the performance on the test set\n",
    "# from sklearn.preprocessing import MinMaxScaler\n",
    "# scaler = MinMaxScaler()\n",
    "# X_train = scaler.fit_transform(X_train)\n",
    "# X_test = scaler.fit_transform(X_test)\n",
    "\n",
    "print(\"The number of observations in training set is {}\".format(X_train.shape))\n",
    "print(\"The number of observations in test set is {}\".format(X_test.shape))"
   ]
  },
  {
   "cell_type": "code",
   "execution_count": 45,
   "metadata": {},
   "outputs": [
    {
     "name": "stdout",
     "output_type": "stream",
     "text": [
      "R-squared of the model on the training set is: 0.7538573177100395\n",
      "-----Test set statistics-----\n",
      "R-squared of the model on the test set is: 0.7860022990887687\n",
      "Mean absolute error of the prediction is: 0.17212987185289252\n"
     ]
    }
   ],
   "source": [
    "# Fitting a regression model\n",
    "linreg = LinearRegression() \n",
    "results = linreg.fit(X_train, Y_train)\n",
    "\n",
    "# predictions\n",
    "Y_preds_train = linreg.predict(X_train)\n",
    "Y_preds_test = linreg.predict(X_test)\n",
    "\n",
    "print(\"R-squared of the model on the training set is: {}\".format(linreg.score(X_train, Y_train)))\n",
    "print(\"-----Test set statistics-----\")\n",
    "print(\"R-squared of the model on the test set is: {}\".format(linreg.score(X_test, Y_test)))\n",
    "print(\"Mean absolute error of the prediction is: {}\".format(mean_absolute_error(Y_test, Y_preds_test)))"
   ]
  },
  {
   "cell_type": "code",
   "execution_count": 46,
   "metadata": {},
   "outputs": [],
   "source": [
    "# make predictions\n",
    "Y_pred = results.predict(X_test)"
   ]
  },
  {
   "cell_type": "code",
   "execution_count": 47,
   "metadata": {},
   "outputs": [
    {
     "data": {
      "text/plain": [
       "Text(0, 0.5, 'Margin of Error in Strokes')"
      ]
     },
     "execution_count": 47,
     "metadata": {},
     "output_type": "execute_result"
    },
    {
     "data": {
      "image/png": "[encoded data removed]",
      "text/plain": [
       "<Figure size 432x288 with 1 Axes>"
      ]
     },
     "metadata": {
      "needs_background": "light"
     },
     "output_type": "display_data"
    }
   ],
   "source": [
    "# Scatter plot the training data\n",
    "train = plt.scatter(Y_preds_train,(Y_train-Y_preds_train),c='b',alpha=0.5)\n",
    "\n",
    "# Scatter plot the testing data\n",
    "test = plt.scatter(Y_preds_test,(Y_test-Y_preds_test),c='r',alpha=0.5)\n",
    "\n",
    "# Plot a horizontal axis line at 0\n",
    "plt.hlines(y=1,xmin=69,xmax=74)\n",
    "plt.hlines(y=0,xmin=69,xmax=74)\n",
    "plt.hlines(y=-1,xmin=69,xmax=74)\n",
    "#Labels\n",
    "plt.legend((train,test),('Training','Test'),loc='lower left')\n",
    "plt.title('Residual Plot')\n",
    "plt.xlabel('Avg Score')\n",
    "plt.ylabel('Margin of Error in Strokes')"
   ]
  },
  {
   "cell_type": "markdown",
   "metadata": {},
   "source": [
    "Our model is pretty good! It predicted every avg score within +/- 1 stroke with only a couple exceptions, and the average prediction is off by only .17 of a stroke."
   ]
  },
  {
   "cell_type": "markdown",
   "metadata": {},
   "source": [
    "### Conclusions\n",
    "\n",
    "    - Practicing long putting is the best use of time\n",
    "    - Driving distance and accuracy are not good indicators of a successful golfer\n",
    "    - Golf shots have an inherent collinearity \n",
    "    - The model is a good start for sports betting predictions\n",
    "     - Is it more useful than simply using avg score itself?\n",
    "     - Could narrow it to these features by specific golf course, weather conditions, etc.\n"
   ]
  },
  {
   "cell_type": "markdown",
   "metadata": {},
   "source": [
    "## Thinkful Revision\n",
    "In this section I'll add a second model in order to compare performance. We'll use a support vector regression model."
   ]
  },
  {
   "cell_type": "code",
   "execution_count": 58,
   "metadata": {},
   "outputs": [
    {
     "name": "stderr",
     "output_type": "stream",
     "text": [
      "c:\\python34\\lib\\site-packages\\sklearn\\svm\\base.py:193: FutureWarning: The default value of gamma will change from 'auto' to 'scale' in version 0.22 to account better for unscaled features. Set gamma explicitly to 'auto' or 'scale' to avoid this warning.\n",
      "  \"avoid this warning.\", FutureWarning)\n"
     ]
    },
    {
     "data": {
      "text/plain": [
       "SVR(C=1.0, cache_size=200, coef0=0.0, degree=3, epsilon=0.1,\n",
       "    gamma='auto_deprecated', kernel='rbf', max_iter=-1, shrinking=True,\n",
       "    tol=0.001, verbose=False)"
      ]
     },
     "execution_count": 58,
     "metadata": {},
     "output_type": "execute_result"
    }
   ],
   "source": [
    "from sklearn.svm import SVR\n",
    "\n",
    "#create model object\n",
    "svr = SVR()\n",
    "\n",
    "# reset variables\n",
    "X, Y = pga_df.drop(['Avg Score','Player Name', 'Season'], axis=1), pga_df['Avg Score']\n",
    "\n",
    "svr.fit(X,Y)"
   ]
  },
  {
   "cell_type": "code",
   "execution_count": 65,
   "metadata": {},
   "outputs": [
    {
     "data": {
      "text/plain": [
       "(69, 73)"
      ]
     },
     "execution_count": 65,
     "metadata": {},
     "output_type": "execute_result"
    },
    {
     "data": {
      "image/png": "[encoded data removed]",
      "text/plain": [
       "<Figure size 432x288 with 1 Axes>"
      ]
     },
     "metadata": {
      "needs_background": "light"
     },
     "output_type": "display_data"
    }
   ],
   "source": [
    "##plot predictions\n",
    "plt.scatter(Y, svr.predict(X))\n",
    "plt.ylim(69,73)\n",
    "plt.xlim(69,73)"
   ]
  },
  {
   "cell_type": "code",
   "execution_count": 60,
   "metadata": {},
   "outputs": [
    {
     "data": {
      "text/plain": [
       "0.904107735191869"
      ]
     },
     "execution_count": 60,
     "metadata": {},
     "output_type": "execute_result"
    }
   ],
   "source": [
    "svr.score(X, Y)"
   ]
  },
  {
   "cell_type": "code",
   "execution_count": 67,
   "metadata": {},
   "outputs": [],
   "source": [
    "# reset variables\n",
    "X, Y = pga_df.drop(['Avg Score','Player Name'], axis=1), pga_df[['Avg Score','Season']]\n",
    "\n",
    "## split into train and test sets\n",
    "X_train = X.loc[X['Season'] != 2018]\n",
    "X_test = X.loc[X['Season'] == 2018]\n",
    "\n",
    "# drop the season identifier feature\n",
    "X_train = X_train.drop('Season', axis=1)\n",
    "X_test = X_test.drop('Season', axis=1)\n",
    "\n",
    "# create Y test and train variables\n",
    "Y_train = Y.loc[Y['Season'] != 2018]\n",
    "Y_test = Y.loc[Y['Season'] == 2018]\n",
    "\n",
    "# drop the season identifier feature\n",
    "Y_train = Y_train.drop('Season', axis=1)\n",
    "Y_test = Y_test.drop('Season', axis=1)"
   ]
  },
  {
   "cell_type": "code",
   "execution_count": 68,
   "metadata": {},
   "outputs": [
    {
     "name": "stdout",
     "output_type": "stream",
     "text": [
      "R-squared of the model on the training set is: 0.9016910601224589\n",
      "-----Test set statistics-----\n",
      "R-squared of the model on the test set is: 0.21646189501920376\n",
      "Mean absolute error of the prediction is: 0.3479390017859849\n"
     ]
    },
    {
     "name": "stderr",
     "output_type": "stream",
     "text": [
      "c:\\python34\\lib\\site-packages\\sklearn\\utils\\validation.py:724: DataConversionWarning: A column-vector y was passed when a 1d array was expected. Please change the shape of y to (n_samples, ), for example using ravel().\n",
      "  y = column_or_1d(y, warn=True)\n",
      "c:\\python34\\lib\\site-packages\\sklearn\\svm\\base.py:193: FutureWarning: The default value of gamma will change from 'auto' to 'scale' in version 0.22 to account better for unscaled features. Set gamma explicitly to 'auto' or 'scale' to avoid this warning.\n",
      "  \"avoid this warning.\", FutureWarning)\n"
     ]
    }
   ],
   "source": [
    "# Fitting a regression model\n",
    "svr = SVR() \n",
    "results = svr.fit(X_train, Y_train)\n",
    "\n",
    "# predictions\n",
    "Y_preds_train = svr.predict(X_train)\n",
    "Y_preds_test = svr.predict(X_test)\n",
    "\n",
    "print(\"R-squared of the model on the training set is: {}\".format(svr.score(X_train, Y_train)))\n",
    "print(\"-----Test set statistics-----\")\n",
    "print(\"R-squared of the model on the test set is: {}\".format(svr.score(X_test, Y_test)))\n",
    "print(\"Mean absolute error of the prediction is: {}\".format(mean_absolute_error(Y_test, Y_preds_test)))"
   ]
  },
  {
   "cell_type": "markdown",
   "metadata": {},
   "source": [
    "## Comparing the Models\n",
    "The SVR model had a very high r-squared value for the training set at .90, but performed terribly on the test set. This is an obvious example of overfitting. We could continue to tweak this model in order to reduce the overfitting and increase performance, but with the lack of explanatory power that our initial linear regression model conveys while maintaining good performance and better predictive power, there is no incentive to choose this model moving forward. "
   ]
  },
  {
   "cell_type": "code",
   "execution_count": null,
   "metadata": {},
   "outputs": [],
   "source": []
  },
  {
   "cell_type": "code",
   "execution_count": null,
   "metadata": {},
   "outputs": [],
   "source": []
  }
 ],
 "metadata": {
  "kernelspec": {
   "display_name": "Python 3",
   "language": "python",
   "name": "python3"
  },
  "language_info": {
   "codemirror_mode": {
    "name": "ipython",
    "version": 3
   },
   "file_extension": ".py",
   "mimetype": "text/x-python",
   "name": "python",
   "nbconvert_exporter": "python",
   "pygments_lexer": "ipython3",
   "version": "3.7.3"
  }
 },
 "nbformat": 4,
 "nbformat_minor": 2
}
